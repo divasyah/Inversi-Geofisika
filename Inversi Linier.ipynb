{
 "cells": [
  {
   "cell_type": "markdown",
   "metadata": {},
   "source": [
    "**Inversi Linier**\n",
    "\n",
    "Inversi dengan problem linier mudah diasumsikan dengan penyelesaian persamaan regresi linier.\n",
    "Persamaan regresi linier secara umum adalah $y = a + bx$. Jika variabel $y$ kita asumsikan sebagai data, variabel $a$ dan $b$ sebagai model, variabel $x$ sebagai penyusun matriks **G**, kita dapat menerapkan Inversi *Least Square*. Berikut diberikan contoh persamaan regresi linier jika ditulis dalam bentuk matriks dengan nilai $y$ dan $x$ yang random, kemudian akan dicari nilai $a$ dan $b$ nya. "
   ]
  },
  {
   "cell_type": "code",
   "execution_count": 13,
   "metadata": {},
   "outputs": [
    {
     "name": "stdout",
     "output_type": "stream",
     "text": [
      "[[2.00922137]\n",
      " [2.05823371]\n",
      " [2.07079362]\n",
      " [2.07938502]\n",
      " [2.22252097]\n",
      " [2.53478473]\n",
      " [2.25604279]\n",
      " [2.17234775]\n",
      " [2.16251269]\n",
      " [2.11463739]]\n"
     ]
    }
   ],
   "source": [
    "import numpy as np\n",
    "from matplotlib import pyplot as plt\n",
    "\n",
    "#penyusun matriks G\n",
    "x = np.random.rand(1,10)\n",
    "#print(x.T)\n",
    "b = np.ones([1,10])\n",
    "#print(b.T)\n",
    "\n",
    "#data\n",
    "y = 2 + x * np.random.rand(1,10)\n",
    "print(y.T)"
   ]
  },
  {
   "cell_type": "code",
   "execution_count": 15,
   "metadata": {},
   "outputs": [
    {
     "name": "stdout",
     "output_type": "stream",
     "text": [
      "[[1.         0.01609883]\n",
      " [1.         0.07082982]\n",
      " [1.         0.34947055]\n",
      " [1.         0.49254531]\n",
      " [1.         0.37005779]\n",
      " [1.         0.57126316]\n",
      " [1.         0.43806478]\n",
      " [1.         0.44987123]\n",
      " [1.         0.24564566]\n",
      " [1.         0.65534801]]\n"
     ]
    }
   ],
   "source": [
    "#membuat matriks G\n",
    "g = np.concatenate((b,x)).T\n",
    "print(g)\n",
    "g_trans = g.T\n",
    "#print(g_trans)"
   ]
  },
  {
   "cell_type": "markdown",
   "metadata": {},
   "source": [
    "Persamaan inversi *least square* adalah **d** = **G** **m**. Kita telah memiliki data matriks **y** atau **d** dan matriks **g** atau matriks **G**. Dari kedua data tersebut kita akan mencari nilai **m** atau model (variabel $a$ dan $b$), $m = \\left[G^T G \\right]^{-1} \\left[G^T d \\right]$. Berikut perhitungannya."
   ]
  },
  {
   "cell_type": "code",
   "execution_count": 11,
   "metadata": {},
   "outputs": [
    {
     "name": "stdout",
     "output_type": "stream",
     "text": [
      "[[2.00341407]\n",
      " [0.51339853]]\n"
     ]
    }
   ],
   "source": [
    "#inversi\n",
    "from numpy.linalg import inv\n",
    "g_one = inv(np.dot(g_trans,g))\n",
    "#print(g_one)\n",
    "g_two = np.dot(g_trans,y.T)\n",
    "#print(g_two)\n",
    "mls = np.dot(g_one,g_two)\n",
    "print(mls)"
   ]
  },
  {
   "cell_type": "markdown",
   "metadata": {},
   "source": [
    "Dari perhitungan tersebut kita memperoleh dua nilai model, atau kita telah mendapatkan nilai $a$ yaitu $2,00341407$ dan $b$ yaitu $0,51339853$. Dari kedua nilai tersebut kita dapat memasukannya ke persamaan $y = ax + b$ untuk mendapatkan nilai $y$ yang baru atau nilai **data prediksi**. Kemudian, jika nilai data prediksi sebagai $y$ yang baru diplot bersamaan dengan nilai $y$ yang lama dengan nilai $x$ yang sama, akan menunjukkan garis prediksi yang mendekati tren data aslinya. Mari kita lihat perhitungan dan plot grafik di bawah."
   ]
  },
  {
   "cell_type": "code",
   "execution_count": 17,
   "metadata": {},
   "outputs": [
    {
     "name": "stdout",
     "output_type": "stream",
     "text": [
      "[2.00341407]\n",
      "[0.51339853]\n",
      "[[2.01167919 2.039778   2.18283174 2.25628611 2.1934012  2.29669974\n",
      "  2.22831589 2.2343773  2.12952819 2.33986878]]\n"
     ]
    },
    {
     "data": {
      "image/png": "[encoded data removed]",
      "text/plain": [
       "<Figure size 432x288 with 1 Axes>"
      ]
     },
     "metadata": {},
     "output_type": "display_data"
    }
   ],
   "source": [
    "#model hasil least square\n",
    "mls1 = mls[0]\n",
    "print(mls1)\n",
    "mls2 = mls[1]\n",
    "print(mls2)\n",
    "\n",
    "d_pred = mls1+mls2*x\n",
    "print(d_pred)\n",
    "\n",
    "plt.plot(x.T,y.T,\"bo\") \n",
    "plt.plot(x.T,d_pred.T,\"red\")\n",
    "plt.show()"
   ]
  }
 ],
 "metadata": {
  "kernelspec": {
   "display_name": "Python 3",
   "language": "python",
   "name": "python3"
  },
  "language_info": {
   "codemirror_mode": {
    "name": "ipython",
    "version": 3
   },
   "file_extension": ".py",
   "mimetype": "text/x-python",
   "name": "python",
   "nbconvert_exporter": "python",
   "pygments_lexer": "ipython3",
   "version": "3.6.5"
  }
 },
 "nbformat": 4,
 "nbformat_minor": 2
}
