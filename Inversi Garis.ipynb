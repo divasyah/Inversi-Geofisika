{
 "cells": [
  {
   "cell_type": "code",
   "execution_count": 86,
   "metadata": {},
   "outputs": [],
   "source": [
    "import numpy as np\n",
    "from matplotlib import pyplot as plt\n",
    "\n",
    "#data\n",
    "x = np.random.rand(1,100)\n",
    "#print(x.T)\n",
    "b = np.ones([1,100])\n",
    "#print(b.T)\n",
    "\n",
    "y = 2 + x * np.random.rand(1,100)\n",
    "#print(y.T)"
   ]
  },
  {
   "cell_type": "code",
   "execution_count": 87,
   "metadata": {},
   "outputs": [],
   "source": [
    "#membuat matriks G\n",
    "g = np.concatenate((b,x)).T\n",
    "#print(g)\n",
    "g_trans = g.T\n",
    "#print(g_trans)"
   ]
  },
  {
   "cell_type": "code",
   "execution_count": 88,
   "metadata": {},
   "outputs": [
    {
     "name": "stdout",
     "output_type": "stream",
     "text": [
      "[[2.00418287]\n",
      " [0.47121274]]\n"
     ]
    }
   ],
   "source": [
    "#inversi\n",
    "from numpy.linalg import inv\n",
    "g_one = inv(np.dot(g_trans,g))\n",
    "#print(g_one)\n",
    "g_two = np.dot(g_trans,y.T)\n",
    "#print(g_two)\n",
    "mls = np.dot(g_one,g_two)\n",
    "print(mls)"
   ]
  },
  {
   "cell_type": "code",
   "execution_count": 90,
   "metadata": {},
   "outputs": [
    {
     "name": "stdout",
     "output_type": "stream",
     "text": [
      "[2.00418287]\n",
      "[0.47121274]\n"
     ]
    },
    {
     "data": {
      "image/png": "[encoded data removed]",
      "text/plain": [
       "<Figure size 432x288 with 1 Axes>"
      ]
     },
     "metadata": {},
     "output_type": "display_data"
    }
   ],
   "source": [
    "#model hasil least square\n",
    "mls1 = mls[0]\n",
    "print(mls1)\n",
    "mls2 = mls[1]\n",
    "print(mls2)\n",
    "\n",
    "d_pred = mls1+mls2*x\n",
    "#print(d_pred)\n",
    "\n",
    "plt.plot(x.T,y.T,\"bo\") \n",
    "plt.plot(x.T,d_pred.T,\"red\")\n",
    "plt.show()"
   ]
  },
  {
   "cell_type": "code",
   "execution_count": null,
   "metadata": {},
   "outputs": [],
   "source": []
  },
  {
   "cell_type": "code",
   "execution_count": null,
   "metadata": {},
   "outputs": [],
   "source": []
  }
 ],
 "metadata": {
  "kernelspec": {
   "display_name": "Python 3",
   "language": "python",
   "name": "python3"
  },
  "language_info": {
   "codemirror_mode": {
    "name": "ipython",
    "version": 3
   },
   "file_extension": ".py",
   "mimetype": "text/x-python",
   "name": "python",
   "nbconvert_exporter": "python",
   "pygments_lexer": "ipython3",
   "version": "3.6.5"
  }
 },
 "nbformat": 4,
 "nbformat_minor": 2
}
