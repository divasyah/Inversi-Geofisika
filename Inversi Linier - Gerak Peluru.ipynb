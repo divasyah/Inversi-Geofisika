{
 "cells": [
  {
   "cell_type": "markdown",
   "metadata": {},
   "source": [
    "**Inversi Linier - Gerak Peluru**\n",
    "\n",
    "Contoh lain dari permasalahan linier adalah persamaan gerak peluru yang parabolik. Persamaan gerak parabolik tersebut jika ditulis adalah $h = h_0 + v_{0h}t - 1/2gt^2$. Nilai $h$ sebagai ketinggian kita anggap sebagai data, nilai $t$ sebagai waktu sebagai penyusun matriks **G**, sedangkan nilai atau model yang akan dicari adalah $h_0$ (posisi ketinggian awal), $v_{0h}$ (nilai kecepatan awal di sumbu $h$), dan $g$ (nilai percepatan gravitasi). Berikut diberikan data nilai waktu ($t$) dan ketinggian ($h$) dari pergerakan sebuah peluru dalam format *csv*."
   ]
  },
  {
   "cell_type": "code",
   "execution_count": 1,
   "metadata": {},
   "outputs": [
    {
     "data": {
      "text/html": [
       "<div>\n",
       "<style scoped>\n",
       "    .dataframe tbody tr th:only-of-type {\n",
       "        vertical-align: middle;\n",
       "    }\n",
       "\n",
       "    .dataframe tbody tr th {\n",
       "        vertical-align: top;\n",
       "    }\n",
       "\n",
       "    .dataframe thead th {\n",
       "        text-align: right;\n",
       "    }\n",
       "</style>\n",
       "<table border=\"1\" class=\"dataframe\">\n",
       "  <thead>\n",
       "    <tr style=\"text-align: right;\">\n",
       "      <th></th>\n",
       "      <th>Waktu (s)</th>\n",
       "      <th>Ketinggian (m)</th>\n",
       "    </tr>\n",
       "  </thead>\n",
       "  <tbody>\n",
       "    <tr>\n",
       "      <th>0</th>\n",
       "      <td>1</td>\n",
       "      <td>105</td>\n",
       "    </tr>\n",
       "    <tr>\n",
       "      <th>1</th>\n",
       "      <td>2</td>\n",
       "      <td>180</td>\n",
       "    </tr>\n",
       "    <tr>\n",
       "      <th>2</th>\n",
       "      <td>3</td>\n",
       "      <td>270</td>\n",
       "    </tr>\n",
       "    <tr>\n",
       "      <th>3</th>\n",
       "      <td>4</td>\n",
       "      <td>325</td>\n",
       "    </tr>\n",
       "    <tr>\n",
       "      <th>4</th>\n",
       "      <td>5</td>\n",
       "      <td>380</td>\n",
       "    </tr>\n",
       "  </tbody>\n",
       "</table>\n",
       "</div>"
      ],
      "text/plain": [
       "   Waktu (s)  Ketinggian (m)\n",
       "0          1             105\n",
       "1          2             180\n",
       "2          3             270\n",
       "3          4             325\n",
       "4          5             380"
      ]
     },
     "execution_count": 1,
     "metadata": {},
     "output_type": "execute_result"
    }
   ],
   "source": [
    "import numpy as np\n",
    "from matplotlib import pyplot as plt\n",
    "import pandas as pd\n",
    "\n",
    "#data\n",
    "data = pd.read_csv(\"peluru.csv\",sep=\";\")\n",
    "data.head()"
   ]
  },
  {
   "cell_type": "code",
   "execution_count": 2,
   "metadata": {},
   "outputs": [
    {
     "name": "stdout",
     "output_type": "stream",
     "text": [
      "[[ 1]\n",
      " [ 2]\n",
      " [ 3]\n",
      " [ 4]\n",
      " [ 5]\n",
      " [ 6]\n",
      " [ 7]\n",
      " [ 8]\n",
      " [ 9]\n",
      " [10]]\n",
      "[[105]\n",
      " [180]\n",
      " [270]\n",
      " [325]\n",
      " [380]\n",
      " [425]\n",
      " [445]\n",
      " [490]\n",
      " [510]\n",
      " [510]]\n"
     ]
    }
   ],
   "source": [
    "t=np.asmatrix(data[\"Waktu (s)\"]).T\n",
    "h=np.asmatrix(data[\"Ketinggian (m)\"]).T\n",
    "print(t)\n",
    "print(h)"
   ]
  },
  {
   "cell_type": "markdown",
   "metadata": {},
   "source": [
    "Jika kita plot pada grafik akan menunjukkan tren parabolik sebagai berikut."
   ]
  },
  {
   "cell_type": "code",
   "execution_count": 3,
   "metadata": {},
   "outputs": [
    {
     "data": {
      "text/plain": [
       "[<matplotlib.lines.Line2D at 0x18426c84c88>]"
      ]
     },
     "execution_count": 3,
     "metadata": {},
     "output_type": "execute_result"
    },
    {
     "data": {
      "image/png": "[encoded data removed]",
      "text/plain": [
       "<Figure size 432x288 with 1 Axes>"
      ]
     },
     "metadata": {},
     "output_type": "display_data"
    }
   ],
   "source": [
    "plt.plot(t,h,\"bo\")"
   ]
  },
  {
   "cell_type": "code",
   "execution_count": 4,
   "metadata": {},
   "outputs": [
    {
     "name": "stdout",
     "output_type": "stream",
     "text": [
      "[[ -0.5  -2.   -4.5  -8.  -12.5 -18.  -24.5 -32.  -40.5 -50. ]]\n",
      "[[  1.    1.   -0.5]\n",
      " [  1.    2.   -2. ]\n",
      " [  1.    3.   -4.5]\n",
      " [  1.    4.   -8. ]\n",
      " [  1.    5.  -12.5]\n",
      " [  1.    6.  -18. ]\n",
      " [  1.    7.  -24.5]\n",
      " [  1.    8.  -32. ]\n",
      " [  1.    9.  -40.5]\n",
      " [  1.   10.  -50. ]]\n"
     ]
    }
   ],
   "source": [
    "#menyusun matrix G\n",
    "b = np.ones([1,10])\n",
    "#print(b)\n",
    "\n",
    "c = -1/2*(np.square(t)).T\n",
    "print(c)\n",
    "g = np.concatenate((b,t.T,c)).T\n",
    "print(g)"
   ]
  },
  {
   "cell_type": "markdown",
   "metadata": {},
   "source": [
    "Masih menggunakan persamaan inversi *least square* yaitu **d** = **G** **m**. Kita telah memiliki data matriks **h** atau **d** dan matriks **g** atau matriks **G**. Dari kedua data tersebut kita akan mencari nilai **m** atau model (variabel $a$ dan $b$), $m = \\left[G^T G \\right]^{-1} \\left[G^T d \\right]$. Berikut perhitungannya."
   ]
  },
  {
   "cell_type": "code",
   "execution_count": 5,
   "metadata": {},
   "outputs": [
    {
     "name": "stdout",
     "output_type": "stream",
     "text": [
      "[[13.66666667]\n",
      " [96.04545455]\n",
      " [ 9.24242424]]\n",
      "[[13.66666667]]\n",
      "[[96.04545455]]\n",
      "[[9.24242424]]\n"
     ]
    }
   ],
   "source": [
    "#inversi\n",
    "from numpy.linalg import inv\n",
    "mls = np.dot(inv(np.dot(g.T,g)),np.dot(g.T,h))\n",
    "print(mls)\n",
    "\n",
    "#model hasil least square\n",
    "h0 = mls[0]\n",
    "print(h0)\n",
    "v0h = mls[1]\n",
    "print(v0h)\n",
    "g = mls[2]\n",
    "print(g)"
   ]
  },
  {
   "cell_type": "markdown",
   "metadata": {},
   "source": [
    "Berbeda dengan inversi pada persamaan regresi linier yang hanya menghasilkan dua nilai model, dalam inversi kasus gerak peluru ini kita mendapatkan tiga nilai model. Berturut-turut adalah $h_0 = 13.66666667$ $m$, $v_{0h} = 96.04545455$ $m/s$, $g = 9.24242424$ $m/s^2$. Ketiga nilai ini kita masukkan ke dalam persamaan gerak peluru $h = h_0 + v_{0h}t - 1/2gt^2$ , menghasilkan nilai $h$ $prediksi$."
   ]
  },
  {
   "cell_type": "code",
   "execution_count": 6,
   "metadata": {},
   "outputs": [
    {
     "name": "stdout",
     "output_type": "stream",
     "text": [
      "[[105.09090909]\n",
      " [187.27272727]\n",
      " [260.21212121]\n",
      " [323.90909091]\n",
      " [378.36363636]\n",
      " [423.57575758]\n",
      " [459.54545455]\n",
      " [486.27272727]\n",
      " [503.75757576]\n",
      " [512.        ]]\n"
     ]
    },
    {
     "data": {
      "text/plain": [
       "Text(0,0.5,'Ketinggian (h)')"
      ]
     },
     "execution_count": 6,
     "metadata": {},
     "output_type": "execute_result"
    },
    {
     "data": {
      "image/png": "[encoded data removed]",
      "text/plain": [
       "<Figure size 432x288 with 1 Axes>"
      ]
     },
     "metadata": {},
     "output_type": "display_data"
    }
   ],
   "source": [
    "#data prediksi\n",
    "h_pred = h0+(v0h*t.T)-(1/2*g*(np.square(t).T))\n",
    "print(h_pred.T)\n",
    "\n",
    "\n",
    "plt.plot(t,h,\"bo\", label='h = data ketinggian')\n",
    "plt.plot(t,h_pred.T,\"red\", label='h_pred = data ketinggian prediksi')\n",
    "plt.legend()\n",
    "plt.title(\"Grafik Gerak Peluru\")\n",
    "plt.xlabel(\"Waktu (t)\")\n",
    "plt.ylabel(\"Ketinggian (h)\")"
   ]
  },
  {
   "cell_type": "markdown",
   "metadata": {},
   "source": [
    "Kita juga dapat menghitung selisih antara data asli dan data prediksi untuk melihat seberapa jauh *error* data prediksi."
   ]
  },
  {
   "cell_type": "code",
   "execution_count": 7,
   "metadata": {},
   "outputs": [
    {
     "data": {
      "text/plain": [
       "matrix([[ 0.09090909],\n",
       "        [ 7.27272727],\n",
       "        [-9.78787879],\n",
       "        [-1.09090909],\n",
       "        [-1.63636364],\n",
       "        [-1.42424242],\n",
       "        [14.54545455],\n",
       "        [-3.72727273],\n",
       "        [-6.24242424],\n",
       "        [ 2.        ]])"
      ]
     },
     "execution_count": 7,
     "metadata": {},
     "output_type": "execute_result"
    }
   ],
   "source": [
    "#selisih data asli dan data prediksi\n",
    "np.subtract(h_pred.T,h)"
   ]
  }
 ],
 "metadata": {
  "kernelspec": {
   "display_name": "Python 3",
   "language": "python",
   "name": "python3"
  },
  "language_info": {
   "codemirror_mode": {
    "name": "ipython",
    "version": 3
   },
   "file_extension": ".py",
   "mimetype": "text/x-python",
   "name": "python",
   "nbconvert_exporter": "python",
   "pygments_lexer": "ipython3",
   "version": "3.6.5"
  }
 },
 "nbformat": 4,
 "nbformat_minor": 2
}
